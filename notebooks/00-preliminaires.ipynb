{
 "cells": [
  {
   "cell_type": "markdown",
   "metadata": {},
   "source": [
    "<small><i>This notebook was put together by [Anderson Banihirwe](andersy005.github.io). Source and license info is on [GitHub](https://github.com/IMLAIR/Scikit-Learn-Primer).</i></small>"
   ]
  },
  {
   "attachments": {},
   "cell_type": "markdown",
   "metadata": {},
   "source": [
    "# A Gentle Introduction to Scikit-Learn: A Python Machine Learning Library\n",
    "\n",
    "![](http://3qeqpr26caki16dnhd19sv6by6v.wpengine.netdna-cdn.com/wp-content/uploads/2014/04/scikit-learn.png)"
   ]
  },
  {
   "cell_type": "markdown",
   "metadata": {},
   "source": [
    "## Table of Contents\n",
    "- [I. Goals of this Tutorial](#Goals-of-this-Tutorial)\n",
    "- [II. Where did it come from?](#Where-did-it-come-from?)\n",
    "- [III. What is scikit-learn?](#What-is-scikit-learn?)\n",
    "- [IV. What are the features?](#What-are-the-features?)\n",
    "- [V. Preliminaries](#Preliminaries)\n",
    "- [VI. Checking your installation](#Checking-your-installation)\n",
    "- [VII. Useful Resources](#Useful-Resources)\n",
    "  "
   ]
  },
  {
   "cell_type": "markdown",
   "metadata": {},
   "source": [
    "## Goals of this Tutorial"
   ]
  },
  {
   "cell_type": "markdown",
   "metadata": {},
   "source": [
    "- **Preliminaires: Specify Python version and library versions to be used**\n",
    "- **introduce Handy Machine Learning Algorithms mind map**\n",
    "- **Get an overview of the scikit-learn library and useful references of where you can learn more**"
   ]
  },
  {
   "attachments": {},
   "cell_type": "markdown",
   "metadata": {},
   "source": [
    "**Preliminaries: Setup & introduction** \n",
    "* Making sure your computer is set-up\n",
    "\n",
    "** Handy machine learning algorithms mind map.\n",
    "[Jason Brownlee](http://machinelearningmastery.com/start-here/) created a handy mind map of 60+ algorithms organized by type.** \n",
    "\n",
    "\n",
    "![](https://s3.amazonaws.com/MLMastery/MachineLearningAlgorithms.png?__s=uxqkqzh8fsbg8aowf6xk)"
   ]
  },
  {
   "cell_type": "markdown",
   "metadata": {},
   "source": [
    "## Where did it come from?\n",
    "[back to top](#Table-of-Contents)\n",
    "\n",
    "Scikit-learn was initially developed by David Cournapeau as a Google summer of code project in 2007.\n",
    "\n",
    "Later Matthieu Brucher joined the project and started to use it as apart of his thesis work. In 2010 INRIA got involved and the first public release (v0.1 beta) was published in late January 2010.\n",
    "\n",
    "The project now has more than 30 active contributors and has had paid sponsorship from INRIA, Google, Tinyclues and the Python Software Foundation."
   ]
  },
  {
   "cell_type": "markdown",
   "metadata": {},
   "source": [
    "## What is scikit-learn?\n",
    "[back to top](#Table-of-Contents)\n",
    "\n",
    "Scikit-learn provides a range of supervised and unsupervised learning algorithms via a consistent interface in Python.\n",
    "\n",
    "It is licensed under a permissive simplified BSD license and is distributed under many Linux distributions, encouraging academic and commercial use.\n",
    "\n",
    "The library is built upon the SciPy (Scientific Python) that must be installed before you can use scikit-learn. This stack that includes:\n",
    "\n",
    "- NumPy: Base n-dimensional array package\n",
    "- SciPy: Fundamental library for scientific computing\n",
    "- Matplotlib: Comprehensive 2D/3D plotting\n",
    "- IPython: Enhanced interactive console\n",
    "- Sympy: Symbolic mathematics\n",
    "- Pandas: Data structures and analysis\n",
    "\n",
    "\n",
    "Extensions or modules for SciPy care conventionally named [SciKits](http://scikits.appspot.com/scikits). As such, the module provides learning algorithms and is named scikit-learn.\n",
    "\n",
    "The vision for the library is a level of robustness and support required for use in production systems. This means a deep focus on concerns such as easy of use, code quality, collaboration, documentation and performance.\n",
    "\n",
    "Although the interface is Python, c-libraries are leverage for performance such as numpy for arrays and matrix operations, [LAPACK](http://www.netlib.org/lapack/), [LibSVM](http://www.csie.ntu.edu.tw/~cjlin/libsvm/) and the careful use of cython.\n",
    "\n"
   ]
  },
  {
   "cell_type": "markdown",
   "metadata": {},
   "source": [
    "## What are the features?\n",
    "[back to top](#Table-of-Contents)\n",
    "\n",
    "The library is focused on modeling data. It is not focused on loading, manipulating and summarizing data. For these features, refer to NumPy and Pandas.\n",
    "![](http://3qeqpr26caki16dnhd19sv6by6v.wpengine.netdna-cdn.com/wp-content/uploads/2014/04/plot_mean_shift_1.png)"
   ]
  },
  {
   "cell_type": "markdown",
   "metadata": {},
   "source": [
    "Some popular groups of models provided by scikit-learn include:\n",
    "\n",
    "- **Clustering:** for grouping unlabeled data such as KMeans.\n",
    "- **Cross Validation:** for estimating the performance of supervised models on unseen data.\n",
    "- **Datasets:** for test datasets and for generating datasets with specific properties for investigating model behavior.\n",
    "- **Dimensionality Reduction:** for reducing the number of attributes in data for summarization, visualization and feature selection such as Principal component analysis.\n",
    "- **Ensemble methods:** for combining the predictions of multiple supervised models.\n",
    "- **Feature extraction:** for defining attributes in image and text data.\n",
    "- **Feature selection:** for identifying meaningful attributes from which to create supervised models.\n",
    "- **Parameter Tuning:** for getting the most out of supervised models.\n",
    "- **Manifold Learning:** For summarizing and depicting complex multi-dimensional data.\n",
    "- **Supervised Models:** a vast array not limited to generalized linear models, discriminate analysis, naive bayes, lazy methods, neural networks, support vector machines and decision trees."
   ]
  },
  {
   "cell_type": "markdown",
   "metadata": {},
   "source": [
    "## Preliminaries\n",
    "[back to top](#Table-of-Contents)"
   ]
  },
  {
   "cell_type": "markdown",
   "metadata": {},
   "source": [
    "This tutorial requires the following packages:\n",
    "\n",
    "- Python version 3.4+\n",
    "- `numpy` version 1.8 or later: http://www.numpy.org/\n",
    "- `scipy` version 0.15 or later: http://www.scipy.org/\n",
    "- `matplotlib` version 1.3 or later: http://matplotlib.org/\n",
    "- `scikit-learn` version 0.15 or later: http://scikit-learn.org\n",
    "- `ipython`/`jupyter` version 3.0 or later, with notebook support: http://ipython.org\n",
    "- `seaborn`: version 0.5 or later, used mainly for plot styling\n",
    "\n",
    "The easiest way to get these is to use the [conda](http://store.continuum.io/) environment manager.\n",
    "I suggest downloading and installing [miniconda](http://conda.pydata.org/miniconda.html).\n",
    "\n",
    "The following command will install all required packages:\n",
    "```\n",
    "$ conda install numpy scipy matplotlib scikit-learn ipython-notebook\n",
    "```\n",
    "\n",
    "Alternatively, you can download and install the (very large) Anaconda software distribution, found at https://store.continuum.io/."
   ]
  },
  {
   "cell_type": "markdown",
   "metadata": {},
   "source": [
    "## Checking your installation\n",
    "[back to top](#Table-of-Contents)\n",
    "\n",
    "You can run the following code to check the versions of the packages on your system:\n",
    "\n",
    "(in IPython notebook, press `shift` and `return` together to execute the contents of a cell)"
   ]
  },
  {
   "cell_type": "code",
   "execution_count": 1,
   "metadata": {},
   "outputs": [
    {
     "name": "stdout",
     "output_type": "stream",
     "text": [
      "IPython: 6.0.0\n",
      "numpy: 1.12.1\n",
      "scipy: 0.19.0\n",
      "matplotlib: 2.0.0\n",
      "scikit-learn: 0.18.1\n",
      "seaborn 0.7.1\n"
     ]
    }
   ],
   "source": [
    "import IPython\n",
    "print('IPython:', IPython.__version__)\n",
    "\n",
    "import numpy\n",
    "print('numpy:', numpy.__version__)\n",
    "\n",
    "import scipy\n",
    "print('scipy:', scipy.__version__)\n",
    "\n",
    "import matplotlib\n",
    "print('matplotlib:', matplotlib.__version__)\n",
    "\n",
    "import sklearn\n",
    "print('scikit-learn:', sklearn.__version__)\n",
    "\n",
    "import seaborn\n",
    "print('seaborn', seaborn.__version__)"
   ]
  },
  {
   "cell_type": "markdown",
   "metadata": {},
   "source": [
    "## Useful Resources\n",
    "[back to top](#Table-of-Contents)"
   ]
  },
  {
   "cell_type": "markdown",
   "metadata": {},
   "source": [
    "### Documentation\n",
    "I recommend starting out with the quick-start tutorial and flicking through the user guide and example gallery for algorithms that interest you.\n",
    "\n",
    "Ultimately, scikit-learn is a library and the API reference will be the best documentation for getting things done.\n",
    "\n",
    "- Quick Start Tutorial http://scikit-learn.org/stable/tutorial/basic/tutorial.html\n",
    "- User Guide http://scikit-learn.org/stable/user_guide.html\n",
    "- API Reference http://scikit-learn.org/stable/modules/classes.html\n",
    "- Example Gallery http://scikit-learn.org/stable/auto_examples/index.html\n",
    "\n",
    "\n",
    "- **matplotlib:** http://matplotlib.org (see especially the gallery section)\n",
    "- **IPython:** http://ipython.org (also check out http://nbviewer.ipython.org)"
   ]
  }
 ],
 "metadata": {
  "kernelspec": {
   "display_name": "Python [conda env:py3]",
   "language": "python",
   "name": "conda-env-py3-py"
  },
  "language_info": {
   "codemirror_mode": {
    "name": "ipython",
    "version": 3
   },
   "file_extension": ".py",
   "mimetype": "text/x-python",
   "name": "python",
   "nbconvert_exporter": "python",
   "pygments_lexer": "ipython3",
   "version": "3.5.3"
  }
 },
 "nbformat": 4,
 "nbformat_minor": 1
}
